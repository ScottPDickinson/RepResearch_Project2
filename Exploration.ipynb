{
 "cells": [
  {
   "cell_type": "code",
   "execution_count": 1,
   "metadata": {
    "collapsed": true
   },
   "outputs": [],
   "source": [
    "storms <- read.csv('data/repdata-data-StormData.csv', header = TRUE)"
   ]
  },
  {
   "cell_type": "code",
   "execution_count": 2,
   "metadata": {
    "collapsed": false,
    "scrolled": true
   },
   "outputs": [
    {
     "name": "stdout",
     "output_type": "stream",
     "text": [
      "'data.frame':\t902297 obs. of  37 variables:\n",
      " $ STATE__   : num  1 1 1 1 1 1 1 1 1 1 ...\n",
      " $ BGN_DATE  : Factor w/ 16335 levels \"1/1/1966 0:00:00\",..: 6523 6523 4242 11116 2224 2224 2260 383 3980 3980 ...\n",
      " $ BGN_TIME  : Factor w/ 3608 levels \"00:00:00 AM\",..: 272 287 2705 1683 2584 3186 242 1683 3186 3186 ...\n",
      " $ TIME_ZONE : Factor w/ 22 levels \"ADT\",\"AKS\",\"AST\",..: 7 7 7 7 7 7 7 7 7 7 ...\n",
      " $ COUNTY    : num  97 3 57 89 43 77 9 123 125 57 ...\n",
      " $ COUNTYNAME: Factor w/ 29601 levels \"\",\"5NM E OF MACKINAC BRIDGE TO PRESQUE ISLE LT MI\",..: 13513 1873 4598 10592 4372 10094 1973 23873 24418 4598 ...\n",
      " $ STATE     : Factor w/ 72 levels \"AK\",\"AL\",\"AM\",..: 2 2 2 2 2 2 2 2 2 2 ...\n",
      " $ EVTYPE    : Factor w/ 985 levels \"   HIGH SURF ADVISORY\",..: 834 834 834 834 834 834 834 834 834 834 ...\n",
      " $ BGN_RANGE : num  0 0 0 0 0 0 0 0 0 0 ...\n",
      " $ BGN_AZI   : Factor w/ 35 levels \"\",\"  N\",\" NW\",..: 1 1 1 1 1 1 1 1 1 1 ...\n",
      " $ BGN_LOCATI: Factor w/ 54429 levels \"\",\" Christiansburg\",..: 1 1 1 1 1 1 1 1 1 1 ...\n",
      " $ END_DATE  : Factor w/ 6663 levels \"\",\"1/1/1993 0:00:00\",..: 1 1 1 1 1 1 1 1 1 1 ...\n",
      " $ END_TIME  : Factor w/ 3647 levels \"\",\" 0900CST\",..: 1 1 1 1 1 1 1 1 1 1 ...\n",
      " $ COUNTY_END: num  0 0 0 0 0 0 0 0 0 0 ...\n",
      " $ COUNTYENDN: logi  NA NA NA NA NA NA ...\n",
      " $ END_RANGE : num  0 0 0 0 0 0 0 0 0 0 ...\n",
      " $ END_AZI   : Factor w/ 24 levels \"\",\"E\",\"ENE\",\"ESE\",..: 1 1 1 1 1 1 1 1 1 1 ...\n",
      " $ END_LOCATI: Factor w/ 34506 levels \"\",\" CANTON\",\" TULIA\",..: 1 1 1 1 1 1 1 1 1 1 ...\n",
      " $ LENGTH    : num  14 2 0.1 0 0 1.5 1.5 0 3.3 2.3 ...\n",
      " $ WIDTH     : num  100 150 123 100 150 177 33 33 100 100 ...\n",
      " $ F         : int  3 2 2 2 2 2 2 1 3 3 ...\n",
      " $ MAG       : num  0 0 0 0 0 0 0 0 0 0 ...\n",
      " $ FATALITIES: num  0 0 0 0 0 0 0 0 1 0 ...\n",
      " $ INJURIES  : num  15 0 2 2 2 6 1 0 14 0 ...\n",
      " $ PROPDMG   : num  25 2.5 25 2.5 2.5 2.5 2.5 2.5 25 25 ...\n",
      " $ PROPDMGEXP: Factor w/ 19 levels \"\",\"-\",\"?\",\"+\",..: 17 17 17 17 17 17 17 17 17 17 ...\n",
      " $ CROPDMG   : num  0 0 0 0 0 0 0 0 0 0 ...\n",
      " $ CROPDMGEXP: Factor w/ 9 levels \"\",\"?\",\"0\",\"2\",..: 1 1 1 1 1 1 1 1 1 1 ...\n",
      " $ WFO       : Factor w/ 542 levels \"\",\" CI\",\"%SD\",..: 1 1 1 1 1 1 1 1 1 1 ...\n",
      " $ STATEOFFIC: Factor w/ 250 levels \"\",\"ALABAMA, Central\",..: 1 1 1 1 1 1 1 1 1 1 ...\n",
      " $ ZONENAMES : Factor w/ 25112 levels \"\",\"                                                                                                                               \"| __truncated__,..: 1 1 1 1 1 1 1 1 1 1 ...\n",
      " $ LATITUDE  : num  3040 3042 3340 3458 3412 ...\n",
      " $ LONGITUDE : num  8812 8755 8742 8626 8642 ...\n",
      " $ LATITUDE_E: num  3051 0 0 0 0 ...\n",
      " $ LONGITUDE_: num  8806 0 0 0 0 ...\n",
      " $ REMARKS   : Factor w/ 436781 levels \"\",\"\\t\",\"\\t\\t\",..: 1 1 1 1 1 1 1 1 1 1 ...\n",
      " $ REFNUM    : num  1 2 3 4 5 6 7 8 9 10 ...\n"
     ]
    }
   ],
   "source": [
    "str(storms)"
   ]
  },
  {
   "cell_type": "code",
   "execution_count": 14,
   "metadata": {
    "collapsed": false,
    "scrolled": true
   },
   "outputs": [],
   "source": [
    "library(dplyr)"
   ]
  },
  {
   "cell_type": "code",
   "execution_count": 15,
   "metadata": {
    "collapsed": false,
    "scrolled": true
   },
   "outputs": [
    {
     "name": "stderr",
     "output_type": "stream",
     "text": [
      "Warning message:\n",
      "In `[<-.factor`(`*tmp*`, ri, value = \"⋮\"): invalid factor level, NA generatedWarning message:\n",
      "In `[<-.factor`(`*tmp*`, ri, value = \"⋮\"): invalid factor level, NA generated"
     ]
    },
    {
     "data": {
      "text/html": [
       "<table>\n",
       "<thead><tr><th></th><th scope=col>EVTYPE</th><th scope=col>n</th></tr></thead>\n",
       "<tbody>\n",
       "\t<tr><th scope=row>1</th><td> TSTM WIND</td><td>4</td></tr>\n",
       "\t<tr><th scope=row>2</th><td>ABNORMAL WARMTH</td><td>4</td></tr>\n",
       "\t<tr><th scope=row>3</th><td>ABNORMALLY DRY</td><td>2</td></tr>\n",
       "\t<tr><th scope=row>4</th><td>ACCUMULATED SNOWFALL</td><td>4</td></tr>\n",
       "\t<tr><th scope=row>5</th><td>AGRICULTURAL FREEZE</td><td>6</td></tr>\n",
       "\t<tr><th scope=row>6</th><td>ASTRONOMICAL HIGH TIDE</td><td>103</td></tr>\n",
       "\t<tr><th scope=row>7</th><td>ASTRONOMICAL LOW TIDE</td><td>174</td></tr>\n",
       "\t<tr><th scope=row>8</th><td>AVALANCHE</td><td>386</td></tr>\n",
       "\t<tr><th scope=row>9</th><td>BEACH EROSION</td><td>3</td></tr>\n",
       "\t<tr><th scope=row>10</th><td>BEACH FLOOD</td><td>2</td></tr>\n",
       "\t<tr><th scope=row>11</th><td>BELOW NORMAL PRECIPITATION</td><td>2</td></tr>\n",
       "\t<tr><th scope=row>12</th><td>BITTER WIND CHILL TEMPERATURES</td><td>3</td></tr>\n",
       "\t<tr><th scope=row>13</th><td>Black Ice</td><td>3</td></tr>\n",
       "\t<tr><th scope=row>14</th><td>BLACK ICE</td><td>14</td></tr>\n",
       "\t<tr><th scope=row>15</th><td>BLIZZARD</td><td>2719</td></tr>\n",
       "\t<tr><th scope=row>16</th><td>BLIZZARD AND EXTREME WIND CHIL</td><td>2</td></tr>\n",
       "\t<tr><th scope=row>17</th><td>BLIZZARD/HEAVY SNOW</td><td>2</td></tr>\n",
       "\t<tr><th scope=row>18</th><td>BLOWING DUST</td><td>4</td></tr>\n",
       "\t<tr><th scope=row>19</th><td>blowing snow</td><td>2</td></tr>\n",
       "\t<tr><th scope=row>20</th><td>Blowing Snow</td><td>3</td></tr>\n",
       "\t<tr><th scope=row>21</th><td>BLOWING SNOW</td><td>12</td></tr>\n",
       "\t<tr><th scope=row>22</th><td>BLOWING SNOW & EXTREME WIND CH</td><td>2</td></tr>\n",
       "\t<tr><th scope=row>23</th><td>BRUSH FIRE</td><td>3</td></tr>\n",
       "\t<tr><th scope=row>24</th><td>Coastal Flood</td><td>6</td></tr>\n",
       "\t<tr><th scope=row>25</th><td>COASTAL FLOOD</td><td>650</td></tr>\n",
       "\t<tr><th scope=row>26</th><td>coastal flooding</td><td>2</td></tr>\n",
       "\t<tr><th scope=row>27</th><td>Coastal Flooding</td><td>38</td></tr>\n",
       "\t<tr><th scope=row>28</th><td>COASTAL FLOODING</td><td>143</td></tr>\n",
       "\t<tr><th scope=row>29</th><td>COASTAL FLOODING/EROSION</td><td>5</td></tr>\n",
       "\t<tr><th scope=row>30</th><td>Coastal Storm</td><td>2</td></tr>\n",
       "\t<tr><th scope=row>31</th><td>NA</td><td>⋮</td></tr>\n",
       "\t<tr><th scope=row>32</th><td>WATERSPOUT-TORNADO</td><td>2</td></tr>\n",
       "\t<tr><th scope=row>33</th><td>WATERSPOUT/ TORNADO</td><td>2</td></tr>\n",
       "\t<tr><th scope=row>34</th><td>WATERSPOUT/TORNADO</td><td>8</td></tr>\n",
       "\t<tr><th scope=row>35</th><td>WATERSPOUTS</td><td>37</td></tr>\n",
       "\t<tr><th scope=row>36</th><td>WET MICROBURST</td><td>6</td></tr>\n",
       "\t<tr><th scope=row>37</th><td>Wet Month</td><td>4</td></tr>\n",
       "\t<tr><th scope=row>38</th><td>Wet Year</td><td>4</td></tr>\n",
       "\t<tr><th scope=row>39</th><td>Whirlwind</td><td>2</td></tr>\n",
       "\t<tr><th scope=row>40</th><td>WILD FIRES</td><td>4</td></tr>\n",
       "\t<tr><th scope=row>41</th><td>WILD/FOREST FIRE</td><td>1457</td></tr>\n",
       "\t<tr><th scope=row>42</th><td>WILDFIRE</td><td>2761</td></tr>\n",
       "\t<tr><th scope=row>43</th><td>WILDFIRES</td><td>8</td></tr>\n",
       "\t<tr><th scope=row>44</th><td>Wind</td><td>6</td></tr>\n",
       "\t<tr><th scope=row>45</th><td>WIND</td><td>340</td></tr>\n",
       "\t<tr><th scope=row>46</th><td>WIND ADVISORY</td><td>12</td></tr>\n",
       "\t<tr><th scope=row>47</th><td>WIND CHILL</td><td>18</td></tr>\n",
       "\t<tr><th scope=row>48</th><td>Wind Damage</td><td>4</td></tr>\n",
       "\t<tr><th scope=row>49</th><td>WIND DAMAGE</td><td>27</td></tr>\n",
       "\t<tr><th scope=row>50</th><td>WIND GUSTS</td><td>3</td></tr>\n",
       "\t<tr><th scope=row>51</th><td>WINDS</td><td>36</td></tr>\n",
       "\t<tr><th scope=row>52</th><td>WINTER MIX</td><td>3</td></tr>\n",
       "\t<tr><th scope=row>53</th><td>WINTER STORM</td><td>11433</td></tr>\n",
       "\t<tr><th scope=row>54</th><td>WINTER STORMS</td><td>3</td></tr>\n",
       "\t<tr><th scope=row>55</th><td>Winter Weather</td><td>19</td></tr>\n",
       "\t<tr><th scope=row>56</th><td>WINTER WEATHER</td><td>7026</td></tr>\n",
       "\t<tr><th scope=row>57</th><td>WINTER WEATHER MIX</td><td>6</td></tr>\n",
       "\t<tr><th scope=row>58</th><td>WINTER WEATHER/MIX</td><td>1104</td></tr>\n",
       "\t<tr><th scope=row>59</th><td>WINTERY MIX</td><td>2</td></tr>\n",
       "\t<tr><th scope=row>60</th><td>Wintry mix</td><td>3</td></tr>\n",
       "\t<tr><th scope=row>61</th><td>WINTRY MIX</td><td>90</td></tr>\n",
       "</tbody>\n",
       "</table>\n"
      ],
      "text/latex": [
       "\\begin{tabular}{r|ll}\n",
       "  & EVTYPE & n\\\\\n",
       "\\hline\n",
       "\t1 &  TSTM WIND & 4\\\\\n",
       "\t2 & ABNORMAL WARMTH & 4\\\\\n",
       "\t3 & ABNORMALLY DRY & 2\\\\\n",
       "\t4 & ACCUMULATED SNOWFALL & 4\\\\\n",
       "\t5 & AGRICULTURAL FREEZE & 6\\\\\n",
       "\t6 & ASTRONOMICAL HIGH TIDE & 103\\\\\n",
       "\t7 & ASTRONOMICAL LOW TIDE & 174\\\\\n",
       "\t8 & AVALANCHE & 386\\\\\n",
       "\t9 & BEACH EROSION & 3\\\\\n",
       "\t10 & BEACH FLOOD & 2\\\\\n",
       "\t11 & BELOW NORMAL PRECIPITATION & 2\\\\\n",
       "\t12 & BITTER WIND CHILL TEMPERATURES & 3\\\\\n",
       "\t13 & Black Ice & 3\\\\\n",
       "\t14 & BLACK ICE & 14\\\\\n",
       "\t15 & BLIZZARD & 2719\\\\\n",
       "\t16 & BLIZZARD AND EXTREME WIND CHIL & 2\\\\\n",
       "\t17 & BLIZZARD/HEAVY SNOW & 2\\\\\n",
       "\t18 & BLOWING DUST & 4\\\\\n",
       "\t19 & blowing snow & 2\\\\\n",
       "\t20 & Blowing Snow & 3\\\\\n",
       "\t21 & BLOWING SNOW & 12\\\\\n",
       "\t22 & BLOWING SNOW & EXTREME WIND CH & 2\\\\\n",
       "\t23 & BRUSH FIRE & 3\\\\\n",
       "\t24 & Coastal Flood & 6\\\\\n",
       "\t25 & COASTAL FLOOD & 650\\\\\n",
       "\t26 & coastal flooding & 2\\\\\n",
       "\t27 & Coastal Flooding & 38\\\\\n",
       "\t28 & COASTAL FLOODING & 143\\\\\n",
       "\t29 & COASTAL FLOODING/EROSION & 5\\\\\n",
       "\t30 & Coastal Storm & 2\\\\\n",
       "\t31 & NA & ⋮\\\\\n",
       "\t32 & WATERSPOUT-TORNADO & 2\\\\\n",
       "\t33 & WATERSPOUT/ TORNADO & 2\\\\\n",
       "\t34 & WATERSPOUT/TORNADO & 8\\\\\n",
       "\t35 & WATERSPOUTS & 37\\\\\n",
       "\t36 & WET MICROBURST & 6\\\\\n",
       "\t37 & Wet Month & 4\\\\\n",
       "\t38 & Wet Year & 4\\\\\n",
       "\t39 & Whirlwind & 2\\\\\n",
       "\t40 & WILD FIRES & 4\\\\\n",
       "\t41 & WILD/FOREST FIRE & 1457\\\\\n",
       "\t42 & WILDFIRE & 2761\\\\\n",
       "\t43 & WILDFIRES & 8\\\\\n",
       "\t44 & Wind & 6\\\\\n",
       "\t45 & WIND & 340\\\\\n",
       "\t46 & WIND ADVISORY & 12\\\\\n",
       "\t47 & WIND CHILL & 18\\\\\n",
       "\t48 & Wind Damage & 4\\\\\n",
       "\t49 & WIND DAMAGE & 27\\\\\n",
       "\t50 & WIND GUSTS & 3\\\\\n",
       "\t51 & WINDS & 36\\\\\n",
       "\t52 & WINTER MIX & 3\\\\\n",
       "\t53 & WINTER STORM & 11433\\\\\n",
       "\t54 & WINTER STORMS & 3\\\\\n",
       "\t55 & Winter Weather & 19\\\\\n",
       "\t56 & WINTER WEATHER & 7026\\\\\n",
       "\t57 & WINTER WEATHER MIX & 6\\\\\n",
       "\t58 & WINTER WEATHER/MIX & 1104\\\\\n",
       "\t59 & WINTERY MIX & 2\\\\\n",
       "\t60 & Wintry mix & 3\\\\\n",
       "\t61 & WINTRY MIX & 90\\\\\n",
       "\\end{tabular}\n"
      ],
      "text/plain": [
       "Source: local data frame [496 x 2]\n",
       "\n",
       "                   EVTYPE     n\n",
       "                   (fctr) (int)\n",
       "1               TSTM WIND     4\n",
       "2         ABNORMAL WARMTH     4\n",
       "3          ABNORMALLY DRY     2\n",
       "4    ACCUMULATED SNOWFALL     4\n",
       "5     AGRICULTURAL FREEZE     6\n",
       "6  ASTRONOMICAL HIGH TIDE   103\n",
       "7   ASTRONOMICAL LOW TIDE   174\n",
       "8               AVALANCHE   386\n",
       "9           BEACH EROSION     3\n",
       "10            BEACH FLOOD     2\n",
       "..                    ...   ..."
      ]
     },
     "execution_count": 15,
     "metadata": {},
     "output_type": "execute_result"
    }
   ],
   "source": [
    "event_counts <- storms %>% count(EVTYPE) %>% filter(n > 1)\n",
    "event_counts"
   ]
  },
  {
   "cell_type": "code",
   "execution_count": 16,
   "metadata": {
    "collapsed": false
   },
   "outputs": [
    {
     "data": {
      "text/html": [
       "496"
      ],
      "text/latex": [
       "496"
      ],
      "text/markdown": [
       "496"
      ],
      "text/plain": [
       "[1] 496"
      ]
     },
     "execution_count": 16,
     "metadata": {},
     "output_type": "execute_result"
    }
   ],
   "source": [
    "length(event_counts$EVTYPE)"
   ]
  },
  {
   "cell_type": "markdown",
   "metadata": {},
   "source": [
    "Across the United States, which types of events (as indicated in the 𝙴𝚅𝚃𝚈𝙿𝙴 variable) are most harmful with respect to population health?"
   ]
  },
  {
   "cell_type": "code",
   "execution_count": 28,
   "metadata": {
    "collapsed": false
   },
   "outputs": [],
   "source": [
    "event_counts <- storms %>% count(EVTYPE) %>% filter(n > 20)\n",
    "                 \n",
    "storm_casualties <- storms %>%\n",
    "                      select(EVTYPE, FATALITIES, INJURIES) %>%\n",
    "                      filter(EVTYPE %in% event_counts$EVTYPE) %>%\n",
    "                      group_by(EVTYPE) %>%\n",
    "                      summarise_each(funs(sum, mean, median, sd))"
   ]
  },
  {
   "cell_type": "code",
   "execution_count": 33,
   "metadata": {
    "collapsed": false
   },
   "outputs": [
    {
     "data": {
      "text/html": [
       "<table>\n",
       "<thead><tr><th></th><th scope=col>EVTYPE</th><th scope=col>FATALITIES_sum</th><th scope=col>INJURIES_sum</th><th scope=col>FATALITIES_mean</th><th scope=col>INJURIES_mean</th><th scope=col>FATALITIES_median</th><th scope=col>INJURIES_median</th><th scope=col>FATALITIES_sd</th><th scope=col>INJURIES_sd</th></tr></thead>\n",
       "<tbody>\n",
       "\t<tr><th scope=row>1</th><td>TORNADO</td><td>5633</td><td>91346</td><td>0.0928741</td><td>1.506067</td><td>0</td><td>0</td><td>1.412042</td><td>17.17917</td></tr>\n",
       "\t<tr><th scope=row>2</th><td>EXCESSIVE HEAT</td><td>1903</td><td>6525</td><td>1.134088</td><td>3.888558</td><td>0</td><td>0</td><td>4.781625</td><td>26.12584</td></tr>\n",
       "\t<tr><th scope=row>3</th><td>FLASH FLOOD</td><td>978</td><td>1777</td><td>0.01801868</td><td>0.03273947</td><td>0</td><td>0</td><td>0.2288427</td><td>1.248426</td></tr>\n",
       "\t<tr><th scope=row>4</th><td>HEAT</td><td>937</td><td>2100</td><td>1.221643</td><td>2.73794</td><td>0</td><td>0</td><td>21.10258</td><td>20.33648</td></tr>\n",
       "\t<tr><th scope=row>5</th><td>LIGHTNING</td><td>816</td><td>5230</td><td>0.05179637</td><td>0.3319792</td><td>0</td><td>0</td><td>0.2405761</td><td>1.27538</td></tr>\n",
       "\t<tr><th scope=row>6</th><td>TSTM WIND</td><td>504</td><td>6957</td><td>0.002291534</td><td>0.03163135</td><td>0</td><td>0</td><td>0.0632128</td><td>0.5439376</td></tr>\n",
       "\t<tr><th scope=row>7</th><td>FLOOD</td><td>470</td><td>6789</td><td>0.018558</td><td>0.2680644</td><td>0</td><td>0</td><td>0.2297926</td><td>10.99352</td></tr>\n",
       "\t<tr><th scope=row>8</th><td>RIP CURRENT</td><td>368</td><td>232</td><td>0.7829787</td><td>0.493617</td><td>1</td><td>0</td><td>0.6329001</td><td>1.203655</td></tr>\n",
       "\t<tr><th scope=row>9</th><td>HIGH WIND</td><td>248</td><td>1137</td><td>0.01226994</td><td>0.05625371</td><td>0</td><td>0</td><td>0.1583768</td><td>0.792606</td></tr>\n",
       "\t<tr><th scope=row>10</th><td>AVALANCHE</td><td>224</td><td>170</td><td>0.5803109</td><td>0.4404145</td><td>0</td><td>0</td><td>0.7796276</td><td>1.035888</td></tr>\n",
       "</tbody>\n",
       "</table>\n"
      ],
      "text/latex": [
       "\\begin{tabular}{r|lllllllll}\n",
       "  & EVTYPE & FATALITIES_sum & INJURIES_sum & FATALITIES_mean & INJURIES_mean & FATALITIES_median & INJURIES_median & FATALITIES_sd & INJURIES_sd\\\\\n",
       "\\hline\n",
       "\t1 & TORNADO & 5633 & 91346 & 0.0928741 & 1.506067 & 0 & 0 & 1.412042 & 17.17917\\\\\n",
       "\t2 & EXCESSIVE HEAT & 1903 & 6525 & 1.134088 & 3.888558 & 0 & 0 & 4.781625 & 26.12584\\\\\n",
       "\t3 & FLASH FLOOD & 978 & 1777 & 0.01801868 & 0.03273947 & 0 & 0 & 0.2288427 & 1.248426\\\\\n",
       "\t4 & HEAT & 937 & 2100 & 1.221643 & 2.73794 & 0 & 0 & 21.10258 & 20.33648\\\\\n",
       "\t5 & LIGHTNING & 816 & 5230 & 0.05179637 & 0.3319792 & 0 & 0 & 0.2405761 & 1.27538\\\\\n",
       "\t6 & TSTM WIND & 504 & 6957 & 0.002291534 & 0.03163135 & 0 & 0 & 0.0632128 & 0.5439376\\\\\n",
       "\t7 & FLOOD & 470 & 6789 & 0.018558 & 0.2680644 & 0 & 0 & 0.2297926 & 10.99352\\\\\n",
       "\t8 & RIP CURRENT & 368 & 232 & 0.7829787 & 0.493617 & 1 & 0 & 0.6329001 & 1.203655\\\\\n",
       "\t9 & HIGH WIND & 248 & 1137 & 0.01226994 & 0.05625371 & 0 & 0 & 0.1583768 & 0.792606\\\\\n",
       "\t10 & AVALANCHE & 224 & 170 & 0.5803109 & 0.4404145 & 0 & 0 & 0.7796276 & 1.035888\\\\\n",
       "\\end{tabular}\n"
      ],
      "text/plain": [
       "Source: local data frame [10 x 9]\n",
       "\n",
       "           EVTYPE FATALITIES_sum INJURIES_sum FATALITIES_mean INJURIES_mean\n",
       "           (fctr)          (dbl)        (dbl)           (dbl)         (dbl)\n",
       "1         TORNADO           5633        91346     0.092874101    1.50606740\n",
       "2  EXCESSIVE HEAT           1903         6525     1.134088200    3.88855781\n",
       "3     FLASH FLOOD            978         1777     0.018018682    0.03273947\n",
       "4            HEAT            937         2100     1.221642764    2.73794003\n",
       "5       LIGHTNING            816         5230     0.051796369    0.33197918\n",
       "6       TSTM WIND            504         6957     0.002291534    0.03163135\n",
       "7           FLOOD            470         6789     0.018558004    0.26806444\n",
       "8     RIP CURRENT            368          232     0.782978723    0.49361702\n",
       "9       HIGH WIND            248         1137     0.012269939    0.05625371\n",
       "10      AVALANCHE            224          170     0.580310881    0.44041451\n",
       "Variables not shown: FATALITIES_median (dbl), INJURIES_median (dbl),\n",
       "  FATALITIES_sd (dbl), INJURIES_sd (dbl)"
      ]
     },
     "execution_count": 33,
     "metadata": {},
     "output_type": "execute_result"
    }
   ],
   "source": [
    "storm_casualties %>% top_n(10, FATALITIES_sum) %>% arrange(desc(FATALITIES_sum))"
   ]
  },
  {
   "cell_type": "code",
   "execution_count": 34,
   "metadata": {
    "collapsed": false
   },
   "outputs": [
    {
     "data": {
      "text/html": [
       "<table>\n",
       "<thead><tr><th></th><th scope=col>EVTYPE</th><th scope=col>FATALITIES_sum</th><th scope=col>INJURIES_sum</th><th scope=col>FATALITIES_mean</th><th scope=col>INJURIES_mean</th><th scope=col>FATALITIES_median</th><th scope=col>INJURIES_median</th><th scope=col>FATALITIES_sd</th><th scope=col>INJURIES_sd</th></tr></thead>\n",
       "<tbody>\n",
       "\t<tr><th scope=row>1</th><td>EXTREME HEAT</td><td>96</td><td>155</td><td>4.363636</td><td>7.045455</td><td>0</td><td>0</td><td>12.42327</td><td>18.83127</td></tr>\n",
       "\t<tr><th scope=row>2</th><td>HEAT WAVE</td><td>172</td><td>309</td><td>2.324324</td><td>4.175676</td><td>0</td><td>0</td><td>5.571719</td><td>24.04753</td></tr>\n",
       "\t<tr><th scope=row>3</th><td>HEAT</td><td>937</td><td>2100</td><td>1.221643</td><td>2.73794</td><td>0</td><td>0</td><td>21.10258</td><td>20.33648</td></tr>\n",
       "\t<tr><th scope=row>4</th><td>EXCESSIVE HEAT</td><td>1903</td><td>6525</td><td>1.134088</td><td>3.888558</td><td>0</td><td>0</td><td>4.781625</td><td>26.12584</td></tr>\n",
       "\t<tr><th scope=row>5</th><td>RIP CURRENT</td><td>368</td><td>232</td><td>0.7829787</td><td>0.493617</td><td>1</td><td>0</td><td>0.6329001</td><td>1.203655</td></tr>\n",
       "\t<tr><th scope=row>6</th><td>HURRICANE/TYPHOON</td><td>64</td><td>1275</td><td>0.7272727</td><td>14.48864</td><td>0</td><td>0</td><td>2.153464</td><td>89.80413</td></tr>\n",
       "\t<tr><th scope=row>7</th><td>RIP CURRENTS</td><td>204</td><td>297</td><td>0.6710526</td><td>0.9769737</td><td>1</td><td>0</td><td>0.6322083</td><td>3.318534</td></tr>\n",
       "\t<tr><th scope=row>8</th><td>FLASH FLOOD/FLOOD</td><td>14</td><td>0</td><td>0.6363636</td><td>0</td><td>0</td><td>0</td><td>1.432462</td><td>0</td></tr>\n",
       "\t<tr><th scope=row>9</th><td>AVALANCHE</td><td>224</td><td>170</td><td>0.5803109</td><td>0.4404145</td><td>0</td><td>0</td><td>0.7796276</td><td>1.035888</td></tr>\n",
       "\t<tr><th scope=row>10</th><td>COLD</td><td>35</td><td>48</td><td>0.4861111</td><td>0.6666667</td><td>0</td><td>0</td><td>0.6049806</td><td>2.98824</td></tr>\n",
       "</tbody>\n",
       "</table>\n"
      ],
      "text/latex": [
       "\\begin{tabular}{r|lllllllll}\n",
       "  & EVTYPE & FATALITIES_sum & INJURIES_sum & FATALITIES_mean & INJURIES_mean & FATALITIES_median & INJURIES_median & FATALITIES_sd & INJURIES_sd\\\\\n",
       "\\hline\n",
       "\t1 & EXTREME HEAT & 96 & 155 & 4.363636 & 7.045455 & 0 & 0 & 12.42327 & 18.83127\\\\\n",
       "\t2 & HEAT WAVE & 172 & 309 & 2.324324 & 4.175676 & 0 & 0 & 5.571719 & 24.04753\\\\\n",
       "\t3 & HEAT & 937 & 2100 & 1.221643 & 2.73794 & 0 & 0 & 21.10258 & 20.33648\\\\\n",
       "\t4 & EXCESSIVE HEAT & 1903 & 6525 & 1.134088 & 3.888558 & 0 & 0 & 4.781625 & 26.12584\\\\\n",
       "\t5 & RIP CURRENT & 368 & 232 & 0.7829787 & 0.493617 & 1 & 0 & 0.6329001 & 1.203655\\\\\n",
       "\t6 & HURRICANE/TYPHOON & 64 & 1275 & 0.7272727 & 14.48864 & 0 & 0 & 2.153464 & 89.80413\\\\\n",
       "\t7 & RIP CURRENTS & 204 & 297 & 0.6710526 & 0.9769737 & 1 & 0 & 0.6322083 & 3.318534\\\\\n",
       "\t8 & FLASH FLOOD/FLOOD & 14 & 0 & 0.6363636 & 0 & 0 & 0 & 1.432462 & 0\\\\\n",
       "\t9 & AVALANCHE & 224 & 170 & 0.5803109 & 0.4404145 & 0 & 0 & 0.7796276 & 1.035888\\\\\n",
       "\t10 & COLD & 35 & 48 & 0.4861111 & 0.6666667 & 0 & 0 & 0.6049806 & 2.98824\\\\\n",
       "\\end{tabular}\n"
      ],
      "text/plain": [
       "Source: local data frame [10 x 9]\n",
       "\n",
       "              EVTYPE FATALITIES_sum INJURIES_sum FATALITIES_mean INJURIES_mean\n",
       "              (fctr)          (dbl)        (dbl)           (dbl)         (dbl)\n",
       "1       EXTREME HEAT             96          155       4.3636364     7.0454545\n",
       "2          HEAT WAVE            172          309       2.3243243     4.1756757\n",
       "3               HEAT            937         2100       1.2216428     2.7379400\n",
       "4     EXCESSIVE HEAT           1903         6525       1.1340882     3.8885578\n",
       "5        RIP CURRENT            368          232       0.7829787     0.4936170\n",
       "6  HURRICANE/TYPHOON             64         1275       0.7272727    14.4886364\n",
       "7       RIP CURRENTS            204          297       0.6710526     0.9769737\n",
       "8  FLASH FLOOD/FLOOD             14            0       0.6363636     0.0000000\n",
       "9          AVALANCHE            224          170       0.5803109     0.4404145\n",
       "10              COLD             35           48       0.4861111     0.6666667\n",
       "Variables not shown: FATALITIES_median (dbl), INJURIES_median (dbl),\n",
       "  FATALITIES_sd (dbl), INJURIES_sd (dbl)"
      ]
     },
     "execution_count": 34,
     "metadata": {},
     "output_type": "execute_result"
    }
   ],
   "source": [
    "storm_casualties %>% top_n(10, FATALITIES_mean) %>% arrange(desc(FATALITIES_mean))"
   ]
  },
  {
   "cell_type": "code",
   "execution_count": 37,
   "metadata": {
    "collapsed": false,
    "scrolled": true
   },
   "outputs": [
    {
     "data": {
      "text/html": [
       "<table>\n",
       "<thead><tr><th></th><th scope=col>EVTYPE</th><th scope=col>FATALITIES_sum</th><th scope=col>INJURIES_sum</th><th scope=col>FATALITIES_mean</th><th scope=col>INJURIES_mean</th><th scope=col>FATALITIES_median</th><th scope=col>INJURIES_median</th><th scope=col>FATALITIES_sd</th><th scope=col>INJURIES_sd</th></tr></thead>\n",
       "<tbody>\n",
       "\t<tr><th scope=row>1</th><td>TORNADO</td><td>5633</td><td>91346</td><td>0.0928741</td><td>1.506067</td><td>0</td><td>0</td><td>1.412042</td><td>17.17917</td></tr>\n",
       "\t<tr><th scope=row>2</th><td>TSTM WIND</td><td>504</td><td>6957</td><td>0.002291534</td><td>0.03163135</td><td>0</td><td>0</td><td>0.0632128</td><td>0.5439376</td></tr>\n",
       "\t<tr><th scope=row>3</th><td>FLOOD</td><td>470</td><td>6789</td><td>0.018558</td><td>0.2680644</td><td>0</td><td>0</td><td>0.2297926</td><td>10.99352</td></tr>\n",
       "\t<tr><th scope=row>4</th><td>EXCESSIVE HEAT</td><td>1903</td><td>6525</td><td>1.134088</td><td>3.888558</td><td>0</td><td>0</td><td>4.781625</td><td>26.12584</td></tr>\n",
       "\t<tr><th scope=row>5</th><td>LIGHTNING</td><td>816</td><td>5230</td><td>0.05179637</td><td>0.3319792</td><td>0</td><td>0</td><td>0.2405761</td><td>1.27538</td></tr>\n",
       "\t<tr><th scope=row>6</th><td>HEAT</td><td>937</td><td>2100</td><td>1.221643</td><td>2.73794</td><td>0</td><td>0</td><td>21.10258</td><td>20.33648</td></tr>\n",
       "\t<tr><th scope=row>7</th><td>ICE STORM</td><td>89</td><td>1975</td><td>0.0443669</td><td>0.9845464</td><td>0</td><td>0</td><td>0.3213526</td><td>35.06677</td></tr>\n",
       "\t<tr><th scope=row>8</th><td>FLASH FLOOD</td><td>978</td><td>1777</td><td>0.01801868</td><td>0.03273947</td><td>0</td><td>0</td><td>0.2288427</td><td>1.248426</td></tr>\n",
       "\t<tr><th scope=row>9</th><td>THUNDERSTORM WIND</td><td>133</td><td>1488</td><td>0.001610891</td><td>0.0180226</td><td>0</td><td>0</td><td>0.05100499</td><td>0.4611448</td></tr>\n",
       "\t<tr><th scope=row>10</th><td>HAIL</td><td>15</td><td>1361</td><td>5.196407e-05</td><td>0.004714873</td><td>0</td><td>0</td><td>0.01002305</td><td>0.3848648</td></tr>\n",
       "</tbody>\n",
       "</table>\n"
      ],
      "text/latex": [
       "\\begin{tabular}{r|lllllllll}\n",
       "  & EVTYPE & FATALITIES_sum & INJURIES_sum & FATALITIES_mean & INJURIES_mean & FATALITIES_median & INJURIES_median & FATALITIES_sd & INJURIES_sd\\\\\n",
       "\\hline\n",
       "\t1 & TORNADO & 5633 & 91346 & 0.0928741 & 1.506067 & 0 & 0 & 1.412042 & 17.17917\\\\\n",
       "\t2 & TSTM WIND & 504 & 6957 & 0.002291534 & 0.03163135 & 0 & 0 & 0.0632128 & 0.5439376\\\\\n",
       "\t3 & FLOOD & 470 & 6789 & 0.018558 & 0.2680644 & 0 & 0 & 0.2297926 & 10.99352\\\\\n",
       "\t4 & EXCESSIVE HEAT & 1903 & 6525 & 1.134088 & 3.888558 & 0 & 0 & 4.781625 & 26.12584\\\\\n",
       "\t5 & LIGHTNING & 816 & 5230 & 0.05179637 & 0.3319792 & 0 & 0 & 0.2405761 & 1.27538\\\\\n",
       "\t6 & HEAT & 937 & 2100 & 1.221643 & 2.73794 & 0 & 0 & 21.10258 & 20.33648\\\\\n",
       "\t7 & ICE STORM & 89 & 1975 & 0.0443669 & 0.9845464 & 0 & 0 & 0.3213526 & 35.06677\\\\\n",
       "\t8 & FLASH FLOOD & 978 & 1777 & 0.01801868 & 0.03273947 & 0 & 0 & 0.2288427 & 1.248426\\\\\n",
       "\t9 & THUNDERSTORM WIND & 133 & 1488 & 0.001610891 & 0.0180226 & 0 & 0 & 0.05100499 & 0.4611448\\\\\n",
       "\t10 & HAIL & 15 & 1361 & 5.196407e-05 & 0.004714873 & 0 & 0 & 0.01002305 & 0.3848648\\\\\n",
       "\\end{tabular}\n"
      ],
      "text/plain": [
       "Source: local data frame [10 x 9]\n",
       "\n",
       "              EVTYPE FATALITIES_sum INJURIES_sum FATALITIES_mean INJURIES_mean\n",
       "              (fctr)          (dbl)        (dbl)           (dbl)         (dbl)\n",
       "1            TORNADO           5633        91346    9.287410e-02   1.506067401\n",
       "2          TSTM WIND            504         6957    2.291534e-03   0.031631354\n",
       "3              FLOOD            470         6789    1.855800e-02   0.268064440\n",
       "4     EXCESSIVE HEAT           1903         6525    1.134088e+00   3.888557807\n",
       "5          LIGHTNING            816         5230    5.179637e-02   0.331979180\n",
       "6               HEAT            937         2100    1.221643e+00   2.737940026\n",
       "7          ICE STORM             89         1975    4.436690e-02   0.984546361\n",
       "8        FLASH FLOOD            978         1777    1.801868e-02   0.032739466\n",
       "9  THUNDERSTORM WIND            133         1488    1.610891e-03   0.018022601\n",
       "10              HAIL             15         1361    5.196407e-05   0.004714873\n",
       "Variables not shown: FATALITIES_median (dbl), INJURIES_median (dbl),\n",
       "  FATALITIES_sd (dbl), INJURIES_sd (dbl)"
      ]
     },
     "execution_count": 37,
     "metadata": {},
     "output_type": "execute_result"
    }
   ],
   "source": [
    "storm_casualties %>% top_n(10, INJURIES_sum) %>% arrange(desc(INJURIES_sum))"
   ]
  },
  {
   "cell_type": "code",
   "execution_count": 39,
   "metadata": {
    "collapsed": false,
    "scrolled": false
   },
   "outputs": [
    {
     "data": {
      "text/html": [
       "<table>\n",
       "<thead><tr><th></th><th scope=col>EVTYPE</th><th scope=col>FATALITIES_sum</th><th scope=col>INJURIES_sum</th><th scope=col>FATALITIES_mean</th><th scope=col>INJURIES_mean</th><th scope=col>FATALITIES_median</th><th scope=col>INJURIES_median</th><th scope=col>FATALITIES_sd</th><th scope=col>INJURIES_sd</th></tr></thead>\n",
       "<tbody>\n",
       "\t<tr><th scope=row>1</th><td>HURRICANE/TYPHOON</td><td>64</td><td>1275</td><td>0.7272727</td><td>14.48864</td><td>0</td><td>0</td><td>2.153464</td><td>89.80413</td></tr>\n",
       "\t<tr><th scope=row>2</th><td>EXTREME HEAT</td><td>96</td><td>155</td><td>4.363636</td><td>7.045455</td><td>0</td><td>0</td><td>12.42327</td><td>18.83127</td></tr>\n",
       "\t<tr><th scope=row>3</th><td>GLAZE</td><td>7</td><td>216</td><td>0.21875</td><td>6.75</td><td>0</td><td>0.5</td><td>0.9064064</td><td>13.83544</td></tr>\n",
       "\t<tr><th scope=row>4</th><td>HEAT WAVE</td><td>172</td><td>309</td><td>2.324324</td><td>4.175676</td><td>0</td><td>0</td><td>5.571719</td><td>24.04753</td></tr>\n",
       "\t<tr><th scope=row>5</th><td>EXCESSIVE HEAT</td><td>1903</td><td>6525</td><td>1.134088</td><td>3.888558</td><td>0</td><td>0</td><td>4.781625</td><td>26.12584</td></tr>\n",
       "\t<tr><th scope=row>6</th><td>HEAT</td><td>937</td><td>2100</td><td>1.221643</td><td>2.73794</td><td>0</td><td>0</td><td>21.10258</td><td>20.33648</td></tr>\n",
       "\t<tr><th scope=row>7</th><td>ICE</td><td>6</td><td>137</td><td>0.09836066</td><td>2.245902</td><td>0</td><td>0</td><td>0.3960184</td><td>9.90733</td></tr>\n",
       "\t<tr><th scope=row>8</th><td>TORNADO</td><td>5633</td><td>91346</td><td>0.0928741</td><td>1.506067</td><td>0</td><td>0</td><td>1.412042</td><td>17.17917</td></tr>\n",
       "\t<tr><th scope=row>9</th><td>FOG</td><td>62</td><td>734</td><td>0.1152416</td><td>1.364312</td><td>0</td><td>0</td><td>0.6295856</td><td>6.013113</td></tr>\n",
       "\t<tr><th scope=row>10</th><td>ICY ROADS</td><td>5</td><td>31</td><td>0.1785714</td><td>1.107143</td><td>0</td><td>1</td><td>0.4755949</td><td>1.617938</td></tr>\n",
       "</tbody>\n",
       "</table>\n"
      ],
      "text/latex": [
       "\\begin{tabular}{r|lllllllll}\n",
       "  & EVTYPE & FATALITIES_sum & INJURIES_sum & FATALITIES_mean & INJURIES_mean & FATALITIES_median & INJURIES_median & FATALITIES_sd & INJURIES_sd\\\\\n",
       "\\hline\n",
       "\t1 & HURRICANE/TYPHOON & 64 & 1275 & 0.7272727 & 14.48864 & 0 & 0 & 2.153464 & 89.80413\\\\\n",
       "\t2 & EXTREME HEAT & 96 & 155 & 4.363636 & 7.045455 & 0 & 0 & 12.42327 & 18.83127\\\\\n",
       "\t3 & GLAZE & 7 & 216 & 0.21875 & 6.75 & 0 & 0.5 & 0.9064064 & 13.83544\\\\\n",
       "\t4 & HEAT WAVE & 172 & 309 & 2.324324 & 4.175676 & 0 & 0 & 5.571719 & 24.04753\\\\\n",
       "\t5 & EXCESSIVE HEAT & 1903 & 6525 & 1.134088 & 3.888558 & 0 & 0 & 4.781625 & 26.12584\\\\\n",
       "\t6 & HEAT & 937 & 2100 & 1.221643 & 2.73794 & 0 & 0 & 21.10258 & 20.33648\\\\\n",
       "\t7 & ICE & 6 & 137 & 0.09836066 & 2.245902 & 0 & 0 & 0.3960184 & 9.90733\\\\\n",
       "\t8 & TORNADO & 5633 & 91346 & 0.0928741 & 1.506067 & 0 & 0 & 1.412042 & 17.17917\\\\\n",
       "\t9 & FOG & 62 & 734 & 0.1152416 & 1.364312 & 0 & 0 & 0.6295856 & 6.013113\\\\\n",
       "\t10 & ICY ROADS & 5 & 31 & 0.1785714 & 1.107143 & 0 & 1 & 0.4755949 & 1.617938\\\\\n",
       "\\end{tabular}\n"
      ],
      "text/plain": [
       "Source: local data frame [10 x 9]\n",
       "\n",
       "              EVTYPE FATALITIES_sum INJURIES_sum FATALITIES_mean INJURIES_mean\n",
       "              (fctr)          (dbl)        (dbl)           (dbl)         (dbl)\n",
       "1  HURRICANE/TYPHOON             64         1275      0.72727273     14.488636\n",
       "2       EXTREME HEAT             96          155      4.36363636      7.045455\n",
       "3              GLAZE              7          216      0.21875000      6.750000\n",
       "4          HEAT WAVE            172          309      2.32432432      4.175676\n",
       "5     EXCESSIVE HEAT           1903         6525      1.13408820      3.888558\n",
       "6               HEAT            937         2100      1.22164276      2.737940\n",
       "7                ICE              6          137      0.09836066      2.245902\n",
       "8            TORNADO           5633        91346      0.09287410      1.506067\n",
       "9                FOG             62          734      0.11524164      1.364312\n",
       "10         ICY ROADS              5           31      0.17857143      1.107143\n",
       "Variables not shown: FATALITIES_median (dbl), INJURIES_median (dbl),\n",
       "  FATALITIES_sd (dbl), INJURIES_sd (dbl)"
      ]
     },
     "execution_count": 39,
     "metadata": {},
     "output_type": "execute_result"
    }
   ],
   "source": [
    "storm_casualties %>% top_n(10, INJURIES_mean) %>% arrange(desc(INJURIES_mean))"
   ]
  },
  {
   "cell_type": "code",
   "execution_count": null,
   "metadata": {
    "collapsed": true
   },
   "outputs": [],
   "source": []
  }
 ],
 "metadata": {
  "kernelspec": {
   "display_name": "R",
   "language": "R",
   "name": "ir"
  },
  "language_info": {
   "codemirror_mode": "r",
   "file_extension": ".r",
   "mimetype": "text/x-r-source",
   "name": "R",
   "pygments_lexer": "r",
   "version": "3.2.3"
  }
 },
 "nbformat": 4,
 "nbformat_minor": 0
}
